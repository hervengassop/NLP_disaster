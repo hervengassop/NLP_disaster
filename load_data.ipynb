{
 "cells": [
  {
   "cell_type": "markdown",
   "metadata": {},
   "source": [
    "# Twitter disaster response messages\n",
    "\n",
    "## 1. Introduction\n",
    "\n",
    "The dataset is made available by [Figure Eight](https://www.figure-eight.com) and it comprises a set of messages related to disaster response, covering multiple languages, suitable for text categorization and related natural language processing tasks.\n",
    "\n",
    "The messages are translated to english and classified.\n",
    "\n",
    "\n",
    "### 1.1 Goal\n",
    "\n",
    "The goal is to train a classifier able to detect different emergencies or disaster situations.\n",
    "\n",
    "We compare approached based on word frequency (TFIDF) with approached based on word embeddings and neural networks (through SpaCy).\n"
   ]
  },
  {
   "cell_type": "code",
   "execution_count": 23,
   "metadata": {},
   "outputs": [],
   "source": [
    "import numpy as np\n",
    "import pandas as pd\n",
    "import pylab as plt\n",
    "\n",
    "import spacy\n",
    "from spacy.tokenizer import Tokenizer\n",
    "from spacy.lang.en import English\n",
    "from spacy.util import minibatch, compounding\n",
    "\n",
    "import re\n",
    "import urllib.request\n",
    "pd.set_option('display.max_colwidth', -1)\n",
    "pd.options.display.max_columns = None\n",
    "from IPython.core.display import display, HTML\n",
    "display(HTML(\"<style>.container { width:100% !important; }</style>\"))\n",
    "\n",
    "nlp = spacy.load(\"en_core_web_md\")"
   ]
  },
  {
   "cell_type": "code",
   "execution_count": 122,
   "metadata": {},
   "outputs": [],
   "source": [
    "from sklearn.base import TransformerMixin\n",
    "\n",
    "\n",
    "from sklearn.model_selection import train_test_split\n",
    "from sklearn.metrics import confusion_matrix\n",
    "from sklearn.metrics import fbeta_score, make_scorer\n",
    "from sklearn.tree import DecisionTreeClassifier\n",
    "from sklearn.model_selection import GridSearchCV\n",
    "from sklearn.feature_extraction.text import TfidfTransformer, CountVectorizer\n",
    "from sklearn.multioutput import MultiOutputClassifier\n",
    "from sklearn.linear_model import LogisticRegression\n",
    "\n",
    "from sklearn.model_selection import train_test_split\n",
    "from sklearn.multioutput import MultiOutputClassifier\n",
    "from sklearn.ensemble import RandomForestClassifier, GradientBoostingClassifier,AdaBoostClassifier\n",
    "from sklearn.multiclass import OneVsRestClassifier\n",
    "\n",
    "from sklearn.pipeline import Pipeline, FeatureUnion\n",
    "from sklearn.model_selection import GridSearchCV, RandomizedSearchCV\n",
    "from sklearn.metrics import make_scorer, accuracy_score, f1_score, fbeta_score, classification_report, confusion_matrix\n",
    "\n",
    "import sklearn.metrics as met\n",
    "\n",
    "from scipy.stats import randint as sp_randint , uniform\n"
   ]
  },
  {
   "cell_type": "code",
   "execution_count": 2,
   "metadata": {},
   "outputs": [],
   "source": [
    "# download data files\n",
    "\n",
    "if 0:\n",
    "    url = 'https://datasets.figure-eight.com/figure_eight_datasets/disaster_response_data/disaster_response_messages_training.csv'  \n",
    "    urllib.request.urlretrieve(url, 'disaster_response_messages_training.csv')\n",
    "    url = 'https://datasets.figure-eight.com/figure_eight_datasets/disaster_response_data/disaster_response_messages_test.csv'  \n",
    "    urllib.request.urlretrieve(url, 'disaster_response_messages_test.csv')\n",
    "    url = 'https://datasets.figure-eight.com/figure_eight_datasets/disaster_response_data/disaster_response_messages_validation.csv'  \n",
    "    urllib.request.urlretrieve(url, 'disaster_response_messages_validation.csv')\n",
    "    \n",
    "    "
   ]
  },
  {
   "cell_type": "code",
   "execution_count": 3,
   "metadata": {},
   "outputs": [
    {
     "name": "stderr",
     "output_type": "stream",
     "text": [
      "C:\\anaconda3\\envs\\ds\\lib\\site-packages\\IPython\\core\\interactiveshell.py:3020: DtypeWarning: Columns (3) have mixed types. Specify dtype option on import or set low_memory=False.\n",
      "  interactivity=interactivity, compiler=compiler, result=result)\n"
     ]
    }
   ],
   "source": [
    "df=pd.read_csv('disaster_response_messages_training.csv')\n",
    "df=df.drop(columns=['original','split'])"
   ]
  },
  {
   "cell_type": "code",
   "execution_count": 298,
   "metadata": {},
   "outputs": [
    {
     "data": {
      "text/html": [
       "<div>\n",
       "<style scoped>\n",
       "    .dataframe tbody tr th:only-of-type {\n",
       "        vertical-align: middle;\n",
       "    }\n",
       "\n",
       "    .dataframe tbody tr th {\n",
       "        vertical-align: top;\n",
       "    }\n",
       "\n",
       "    .dataframe thead th {\n",
       "        text-align: right;\n",
       "    }\n",
       "</style>\n",
       "<table border=\"1\" class=\"dataframe\">\n",
       "  <thead>\n",
       "    <tr style=\"text-align: right;\">\n",
       "      <th></th>\n",
       "      <th>id</th>\n",
       "      <th>message</th>\n",
       "      <th>genre</th>\n",
       "      <th>related</th>\n",
       "      <th>PII</th>\n",
       "      <th>request</th>\n",
       "      <th>offer</th>\n",
       "      <th>aid_related</th>\n",
       "      <th>medical_help</th>\n",
       "      <th>medical_products</th>\n",
       "    </tr>\n",
       "  </thead>\n",
       "  <tbody>\n",
       "    <tr>\n",
       "      <th>0</th>\n",
       "      <td>2</td>\n",
       "      <td>Weather update - a cold front from Cuba that could pass over Haiti</td>\n",
       "      <td>direct</td>\n",
       "      <td>1</td>\n",
       "      <td>0</td>\n",
       "      <td>0</td>\n",
       "      <td>0</td>\n",
       "      <td>0</td>\n",
       "      <td>0</td>\n",
       "      <td>0</td>\n",
       "    </tr>\n",
       "    <tr>\n",
       "      <th>1</th>\n",
       "      <td>7</td>\n",
       "      <td>Is the Hurricane over or is it not over</td>\n",
       "      <td>direct</td>\n",
       "      <td>1</td>\n",
       "      <td>0</td>\n",
       "      <td>0</td>\n",
       "      <td>0</td>\n",
       "      <td>1</td>\n",
       "      <td>0</td>\n",
       "      <td>0</td>\n",
       "    </tr>\n",
       "    <tr>\n",
       "      <th>2</th>\n",
       "      <td>12</td>\n",
       "      <td>says: west side of Haiti, rest of the country today and tonight</td>\n",
       "      <td>direct</td>\n",
       "      <td>1</td>\n",
       "      <td>0</td>\n",
       "      <td>0</td>\n",
       "      <td>0</td>\n",
       "      <td>0</td>\n",
       "      <td>0</td>\n",
       "      <td>0</td>\n",
       "    </tr>\n",
       "    <tr>\n",
       "      <th>3</th>\n",
       "      <td>14</td>\n",
       "      <td>Information about the National Palace-</td>\n",
       "      <td>direct</td>\n",
       "      <td>0</td>\n",
       "      <td>0</td>\n",
       "      <td>0</td>\n",
       "      <td>0</td>\n",
       "      <td>0</td>\n",
       "      <td>0</td>\n",
       "      <td>0</td>\n",
       "    </tr>\n",
       "    <tr>\n",
       "      <th>4</th>\n",
       "      <td>15</td>\n",
       "      <td>Storm at sacred heart of jesus</td>\n",
       "      <td>direct</td>\n",
       "      <td>1</td>\n",
       "      <td>0</td>\n",
       "      <td>0</td>\n",
       "      <td>0</td>\n",
       "      <td>0</td>\n",
       "      <td>0</td>\n",
       "      <td>0</td>\n",
       "    </tr>\n",
       "  </tbody>\n",
       "</table>\n",
       "</div>"
      ],
      "text/plain": [
       "   id                                                             message  \\\n",
       "0  2   Weather update - a cold front from Cuba that could pass over Haiti   \n",
       "1  7   Is the Hurricane over or is it not over                              \n",
       "2  12  says: west side of Haiti, rest of the country today and tonight      \n",
       "3  14  Information about the National Palace-                               \n",
       "4  15  Storm at sacred heart of jesus                                       \n",
       "\n",
       "    genre  related  PII  request  offer  aid_related  medical_help  \\\n",
       "0  direct  1        0    0        0      0            0              \n",
       "1  direct  1        0    0        0      1            0              \n",
       "2  direct  1        0    0        0      0            0              \n",
       "3  direct  0        0    0        0      0            0              \n",
       "4  direct  1        0    0        0      0            0              \n",
       "\n",
       "   medical_products  \n",
       "0  0                 \n",
       "1  0                 \n",
       "2  0                 \n",
       "3  0                 \n",
       "4  0                 "
      ]
     },
     "execution_count": 298,
     "metadata": {},
     "output_type": "execute_result"
    }
   ],
   "source": [
    "df.iloc[:,:10].head()"
   ]
  },
  {
   "cell_type": "code",
   "execution_count": 24,
   "metadata": {},
   "outputs": [
    {
     "name": "stdout",
     "output_type": "stream",
     "text": [
      "number of messages:  21046\n"
     ]
    },
    {
     "data": {
      "text/plain": [
       "Text(0,0.5,'percentage positve')"
      ]
     },
     "execution_count": 24,
     "metadata": {},
     "output_type": "execute_result"
    },
    {
     "data": {
      "image/png": "[encoded data removed]",
      "text/plain": [
       "<matplotlib.figure.Figure at 0x2f635048>"
      ]
     },
     "metadata": {
      "needs_background": "light"
     },
     "output_type": "display_data"
    }
   ],
   "source": [
    "n_messages=df.shape[0]\n",
    "print(\"number of messages: \",n_messages)\n",
    "\n",
    "perc_positive=100.*df.iloc[:,3:].sum()/n_messages\n",
    "perc_positive=perc_positive.sort_values()\n",
    "perc_positive.plot(kind='bar');\n",
    "plt.ylabel('percentage positve')\n"
   ]
  },
  {
   "cell_type": "code",
   "execution_count": 307,
   "metadata": {},
   "outputs": [
    {
     "data": {
      "text/html": [
       "<div>\n",
       "<style scoped>\n",
       "    .dataframe tbody tr th:only-of-type {\n",
       "        vertical-align: middle;\n",
       "    }\n",
       "\n",
       "    .dataframe tbody tr th {\n",
       "        vertical-align: top;\n",
       "    }\n",
       "\n",
       "    .dataframe thead th {\n",
       "        text-align: right;\n",
       "    }\n",
       "</style>\n",
       "<table border=\"1\" class=\"dataframe\">\n",
       "  <thead>\n",
       "    <tr style=\"text-align: right;\">\n",
       "      <th></th>\n",
       "      <th>message</th>\n",
       "    </tr>\n",
       "  </thead>\n",
       "  <tbody>\n",
       "    <tr>\n",
       "      <th>0</th>\n",
       "      <td>Weather update - a cold front from Cuba that could pass over Haiti</td>\n",
       "    </tr>\n",
       "    <tr>\n",
       "      <th>1</th>\n",
       "      <td>Is the Hurricane over or is it not over</td>\n",
       "    </tr>\n",
       "    <tr>\n",
       "      <th>2</th>\n",
       "      <td>says: west side of Haiti, rest of the country today and tonight</td>\n",
       "    </tr>\n",
       "    <tr>\n",
       "      <th>3</th>\n",
       "      <td>Information about the National Palace-</td>\n",
       "    </tr>\n",
       "    <tr>\n",
       "      <th>4</th>\n",
       "      <td>Storm at sacred heart of jesus</td>\n",
       "    </tr>\n",
       "    <tr>\n",
       "      <th>5</th>\n",
       "      <td>Please, we need tents and water. We are in Silo, Thank you!</td>\n",
       "    </tr>\n",
       "    <tr>\n",
       "      <th>6</th>\n",
       "      <td>I would like to receive the messages, thank you</td>\n",
       "    </tr>\n",
       "    <tr>\n",
       "      <th>7</th>\n",
       "      <td>There's nothing to eat and water, we starving and thirsty.</td>\n",
       "    </tr>\n",
       "    <tr>\n",
       "      <th>8</th>\n",
       "      <td>I am in Petionville. I need more information regarding 4636</td>\n",
       "    </tr>\n",
       "    <tr>\n",
       "      <th>9</th>\n",
       "      <td>I am in Thomassin number 32, in the area named Pyron. I would like to have some water. Thank God we are fine, but we desperately need water. Thanks</td>\n",
       "    </tr>\n",
       "  </tbody>\n",
       "</table>\n",
       "</div>"
      ],
      "text/plain": [
       "                                                                                                                                               message\n",
       "0  Weather update - a cold front from Cuba that could pass over Haiti                                                                                 \n",
       "1  Is the Hurricane over or is it not over                                                                                                            \n",
       "2  says: west side of Haiti, rest of the country today and tonight                                                                                    \n",
       "3  Information about the National Palace-                                                                                                             \n",
       "4  Storm at sacred heart of jesus                                                                                                                     \n",
       "5  Please, we need tents and water. We are in Silo, Thank you!                                                                                        \n",
       "6  I would like to receive the messages, thank you                                                                                                    \n",
       "7  There's nothing to eat and water, we starving and thirsty.                                                                                         \n",
       "8  I am in Petionville. I need more information regarding 4636                                                                                        \n",
       "9  I am in Thomassin number 32, in the area named Pyron. I would like to have some water. Thank God we are fine, but we desperately need water. Thanks"
      ]
     },
     "metadata": {},
     "output_type": "display_data"
    }
   ],
   "source": [
    "display(df['message'].to_frame().head(10))"
   ]
  },
  {
   "cell_type": "markdown",
   "metadata": {},
   "source": [
    "## 2 Preprocessing\n",
    "\n",
    "The CountVectorizer tool is used to extract the most relevant (typically the most frequently used) words in a corpus of text documnents.\n",
    "\n",
    "If used naively, we observe that:\n",
    "* commond words with little predicted value (and, like, be, but ...) are included.\n",
    "* names of countries, cities and nationalities may also included"
   ]
  },
  {
   "cell_type": "code",
   "execution_count": 58,
   "metadata": {},
   "outputs": [
    {
     "name": "stdout",
     "output_type": "stream",
     "text": [
      "['10', '11', '12', '12th', '15', '150', '16', '18', '19', '20', '200', '2000', '2010', '22', '23', '24', '27', '29', '30', '31', '32', '33', '35', '37', '3rd', '40', '41', '42', '43', '4636', '48', '4th', '50', '500', '52', '54', '600', '75', '79', '87', 'able', 'about', 'abroad', 'academy', 'access', 'account', 'across', 'action', 'actually', 'address', 'adopt', 'adress', 'advance', 'advertising', 'advise', 'after', 'afternoon', 'aftershake', 'aftershock', 'aftershocks', 'again', 'aid', 'aide', 'aids', 'airport', 'airtime', 'alerte', 'alexandre', 'alive', 'all', 'almost', 'alone', 'along', 'alot', 'already', 'also', 'always', 'am', 'ambroise', 'american', 'americans', 'an', 'and', 'another', 'anse', 'answer', 'antoine', 'any', 'anymore', 'anyone', 'anything', 'aquin', 'are', 'area', 'areas', 'aren', 'army', 'around', 'arrived', 'artibonit']\n"
     ]
    }
   ],
   "source": [
    "bow = CountVectorizer(max_features=1000,)\n",
    "bow.fit(df.loc[0:1000,'message'])\n",
    "print(bow.get_feature_names()[0:100])\n"
   ]
  },
  {
   "cell_type": "markdown",
   "metadata": {},
   "source": [
    "To prevent such issues we use a more sophisticated tokenizer (based on SpaCy) that can:\n",
    "* remove common English stop words\n",
    "* remove Named Entities such as countries, cities, organizations etc"
   ]
  },
  {
   "cell_type": "code",
   "execution_count": 196,
   "metadata": {},
   "outputs": [],
   "source": [
    "def spacy_tokenizer(message):\n",
    "    message=re.sub(\"[#@$'!*+%\\\".()!,]?;\",'',message).replace('','').replace('-','')\n",
    "    message=' '.join(message.split())\n",
    "    doc=nlp(message)\n",
    "    words=[]\n",
    "\n",
    "    remove_ent=[]\n",
    "    for ent in doc.ents:\n",
    "        if ent.label_ in ['GPE','LOC','NORP','FAC','ORG','LANGUAGE']:\n",
    "            remove_ent.append(ent.text)\n",
    "\n",
    "    # remove punctuation etc\n",
    "    for token in doc:\n",
    "        if ( (~token.is_stop)   & (token.pos_!='NUM') & (token.pos_!='PUNCT') & (token.pos_!='SYM') &\n",
    "           ~(token.text in (remove_ent)) & (len(token.text)>1) ):\n",
    "            words.append(token.text)\n",
    "    return(words)\n",
    "\n"
   ]
  },
  {
   "cell_type": "markdown",
   "metadata": {},
   "source": [
    "It is highly recommended to check the words choose by the algorithm:\n",
    "* for a small subset of messages to catch obvious issues (too many numbers, ...)\n",
    "* on the positive disaster messages on a few classes to see if obvious trigger words are identified"
   ]
  },
  {
   "cell_type": "code",
   "execution_count": 308,
   "metadata": {},
   "outputs": [
    {
     "data": {
      "text/plain": [
       "CountVectorizer(analyzer='word', binary=False, decode_error='strict',\n",
       "                dtype=<class 'numpy.int64'>, encoding='utf-8', input='content',\n",
       "                lowercase=True, max_df=0.9, max_features=500, min_df=2,\n",
       "                ngram_range=(1, 1), preprocessor=None, stop_words=None,\n",
       "                strip_accents=None, token_pattern='(?u)\\\\b\\\\w\\\\w+\\\\b',\n",
       "                tokenizer=<function spacy_tokenizer at 0x000000001CEB1048>,\n",
       "                vocabulary=None)"
      ]
     },
     "execution_count": 308,
     "metadata": {},
     "output_type": "execute_result"
    }
   ],
   "source": [
    "bow = CountVectorizer(tokenizer = spacy_tokenizer, max_df=0.9,min_df=2, max_features=500)\n",
    "bow.fit(df.loc[0:500,'message'])\n",
    "# bow.fit(df.loc[df.food==1,'message'])\n"
   ]
  },
  {
   "cell_type": "code",
   "execution_count": 310,
   "metadata": {},
   "outputs": [
    {
     "name": "stdout",
     "output_type": "stream",
     "text": [
      "['..', '...', '10', '12', '12th', '15', '16', '2000', '24', '27', '29', '30', '31', '32', '33', '35', '3rd', '41', '43', '4636', '50', '500', '75', 'abroad', 'action', 'address', 'adress', 'advertising', 'afternoon', 'aid', 'airport', 'alive', 'alot', 'american', 'antoine', 'anymore', 'apparently', 'area', 'areas', 'arrived', 'artists', 'ask', 'asking', 'assistance', 'association', 'au', 'authorities', 'available', 'avenue', 'b.']\n"
     ]
    }
   ],
   "source": [
    "print(bow.get_feature_names()[0:50])"
   ]
  },
  {
   "cell_type": "markdown",
   "metadata": {},
   "source": [
    "## 3. Term frequency approach\n",
    "\n",
    "We test a simple approach based on term frequency and standard classifiers."
   ]
  },
  {
   "cell_type": "code",
   "execution_count": 98,
   "metadata": {},
   "outputs": [],
   "source": [
    "X_train, X_test, Y_train, Y_test = train_test_split(df['message'], df['food'], test_size=0.2)"
   ]
  },
  {
   "cell_type": "code",
   "execution_count": 99,
   "metadata": {},
   "outputs": [
    {
     "data": {
      "text/plain": [
       "CountVectorizer(analyzer='word', binary=False, decode_error='strict',\n",
       "                dtype=<class 'numpy.int64'>, encoding='utf-8', input='content',\n",
       "                lowercase=True, max_df=0.9, max_features=10000, min_df=2,\n",
       "                ngram_range=(1, 1), preprocessor=None, stop_words=None,\n",
       "                strip_accents=None, token_pattern='(?u)\\\\b\\\\w\\\\w+\\\\b',\n",
       "                tokenizer=<function spacy_tokenizer at 0x000000001446DBF8>,\n",
       "                vocabulary=None)"
      ]
     },
     "execution_count": 99,
     "metadata": {},
     "output_type": "execute_result"
    }
   ],
   "source": [
    "bow = CountVectorizer(tokenizer = spacy_tokenizer, max_df=0.9,min_df=2, max_features=10000)\n",
    "bow.fit(X_train)"
   ]
  },
  {
   "cell_type": "code",
   "execution_count": 100,
   "metadata": {},
   "outputs": [],
   "source": [
    "X_train_cv = bow.transform(X_train)\n",
    "tfidf = TfidfTransformer()\n",
    "tfidf.fit(X_train_cv)\n",
    "X_train_tdidf = tfidf.transform(X_train_cv)\n"
   ]
  },
  {
   "cell_type": "code",
   "execution_count": 110,
   "metadata": {},
   "outputs": [],
   "source": [
    "X_test_cv = bow.transform(X_test)\n",
    "X_test_tdidf = tfidf.transform(X_test_cv)"
   ]
  },
  {
   "cell_type": "markdown",
   "metadata": {},
   "source": [
    "### 3.1 LogisticRegression Classifier"
   ]
  },
  {
   "cell_type": "code",
   "execution_count": 129,
   "metadata": {},
   "outputs": [
    {
     "name": "stdout",
     "output_type": "stream",
     "text": [
      "Fitting 5 folds for each of 10 candidates, totalling 50 fits\n"
     ]
    },
    {
     "name": "stderr",
     "output_type": "stream",
     "text": [
      "[Parallel(n_jobs=1)]: Using backend SequentialBackend with 1 concurrent workers.\n",
      "[Parallel(n_jobs=1)]: Done  50 out of  50 | elapsed:    3.1s finished\n"
     ]
    },
    {
     "data": {
      "text/plain": [
       "RandomizedSearchCV(cv=5, error_score='raise-deprecating',\n",
       "                   estimator=Pipeline(memory=None,\n",
       "                                      steps=[('clf',\n",
       "                                              LogisticRegression(C=1.0,\n",
       "                                                                 class_weight='balanced',\n",
       "                                                                 dual=False,\n",
       "                                                                 fit_intercept=True,\n",
       "                                                                 intercept_scaling=1,\n",
       "                                                                 l1_ratio=None,\n",
       "                                                                 max_iter=200,\n",
       "                                                                 multi_class='warn',\n",
       "                                                                 n_jobs=None,\n",
       "                                                                 penalty='l1',\n",
       "                                                                 random_state=0,\n",
       "                                                                 solver='liblinear',\n",
       "                                                                 tol=0.0001,\n",
       "                                                                 verbose=0,\n",
       "                                                                 warm_start=False))],\n",
       "                                      verbose=False),\n",
       "                   iid='warn', n_iter=10, n_jobs=None,\n",
       "                   param_distributions={'clf__C': <scipy.stats._distn_infrastructure.rv_frozen object at 0x000000001CED04E0>},\n",
       "                   pre_dispatch='2*n_jobs', random_state=None, refit='AP',\n",
       "                   return_train_score=False,\n",
       "                   scoring=make_scorer(average_precision_score), verbose=1)"
      ]
     },
     "execution_count": 129,
     "metadata": {},
     "output_type": "execute_result"
    }
   ],
   "source": [
    "\n",
    "model = Pipeline([\n",
    "        ('clf', LogisticRegression(random_state=0, solver='liblinear',penalty='l1',max_iter=200,class_weight='balanced',\n",
    "                                   )  ),\n",
    "    ])\n",
    "parameters = {\n",
    "    'clf__C': uniform(.001, 1),\n",
    "}\n",
    "\n",
    "cv_folds = 5\n",
    "\n",
    "scorerAP = make_scorer(met.average_precision_score, greater_is_better=True)\n",
    "cv = RandomizedSearchCV(model, scoring=scorerAP, param_distributions=parameters, verbose=1, cv=cv_folds, refit='AP')\n",
    "\n",
    "cv.fit(X_train_tdidf,Y_train)"
   ]
  },
  {
   "cell_type": "code",
   "execution_count": 130,
   "metadata": {},
   "outputs": [],
   "source": [
    "clf=cv.best_estimator_\n",
    "y_pred=clf.predict(X_test_tdidf)\n"
   ]
  },
  {
   "cell_type": "code",
   "execution_count": 312,
   "metadata": {},
   "outputs": [
    {
     "name": "stdout",
     "output_type": "stream",
     "text": [
      "              precision    recall  f1-score   support\n",
      "\n",
      "           0       0.97      0.98      0.97      3732\n",
      "           1       0.81      0.75      0.78       478\n",
      "\n",
      "    accuracy                           0.95      4210\n",
      "   macro avg       0.89      0.87      0.88      4210\n",
      "weighted avg       0.95      0.95      0.95      4210\n",
      "\n"
     ]
    }
   ],
   "source": [
    "print(classification_report(Y_test.values, y_pred))"
   ]
  },
  {
   "cell_type": "code",
   "execution_count": 318,
   "metadata": {},
   "outputs": [
    {
     "data": {
      "text/html": [
       "<div>\n",
       "<style scoped>\n",
       "    .dataframe tbody tr th:only-of-type {\n",
       "        vertical-align: middle;\n",
       "    }\n",
       "\n",
       "    .dataframe tbody tr th {\n",
       "        vertical-align: top;\n",
       "    }\n",
       "\n",
       "    .dataframe thead th {\n",
       "        text-align: right;\n",
       "    }\n",
       "</style>\n",
       "<table border=\"1\" class=\"dataframe\">\n",
       "  <thead>\n",
       "    <tr style=\"text-align: right;\">\n",
       "      <th></th>\n",
       "      <th>y_pred 0</th>\n",
       "      <th>y_pred 1</th>\n",
       "    </tr>\n",
       "  </thead>\n",
       "  <tbody>\n",
       "    <tr>\n",
       "      <th>y_true 0</th>\n",
       "      <td>3648</td>\n",
       "      <td>84</td>\n",
       "    </tr>\n",
       "    <tr>\n",
       "      <th>y_true 1</th>\n",
       "      <td>118</td>\n",
       "      <td>360</td>\n",
       "    </tr>\n",
       "  </tbody>\n",
       "</table>\n",
       "</div>"
      ],
      "text/plain": [
       "          y_pred 0  y_pred 1\n",
       "y_true 0  3648      84      \n",
       "y_true 1  118       360     "
      ]
     },
     "metadata": {},
     "output_type": "display_data"
    }
   ],
   "source": [
    "display(pd.DataFrame( confusion_matrix(Y_test,y_pred),columns=['y_pred 0','y_pred 1'],index=['y_true 0','y_true 1'] ) )"
   ]
  },
  {
   "cell_type": "markdown",
   "metadata": {},
   "source": [
    "### 3.2 Random Forest Classifier"
   ]
  },
  {
   "cell_type": "code",
   "execution_count": 133,
   "metadata": {},
   "outputs": [
    {
     "data": {
      "text/plain": [
       "RandomizedSearchCV(cv=5, error_score='raise-deprecating',\n",
       "                   estimator=RandomForestClassifier(bootstrap=20,\n",
       "                                                    class_weight='balanced',\n",
       "                                                    criterion='entropy',\n",
       "                                                    max_depth=None,\n",
       "                                                    max_features='auto',\n",
       "                                                    max_leaf_nodes=None,\n",
       "                                                    min_impurity_decrease=0.0,\n",
       "                                                    min_impurity_split=None,\n",
       "                                                    min_samples_leaf=1,\n",
       "                                                    min_samples_split=2,\n",
       "                                                    min_weight_fraction_leaf=0.0,\n",
       "                                                    n_estimators='warn',\n",
       "                                                    n_jobs=None...\n",
       "                                        'max_features': <scipy.stats._distn_infrastructure.rv_frozen object at 0x000000001CE64668>,\n",
       "                                        'min_samples_split': <scipy.stats._distn_infrastructure.rv_frozen object at 0x000000001CE645F8>,\n",
       "                                        'n_estimators': <scipy.stats._distn_infrastructure.rv_frozen object at 0x000000001CED0BA8>},\n",
       "                   pre_dispatch='2*n_jobs', random_state=None, refit=True,\n",
       "                   return_train_score=False, scoring='average_precision',\n",
       "                   verbose=0)"
      ]
     },
     "execution_count": 133,
     "metadata": {},
     "output_type": "execute_result"
    }
   ],
   "source": [
    "param_dist = {\n",
    "              \"n_estimators\": sp_randint(1, 40),\n",
    "              \"max_depth\": sp_randint(1, 20),\n",
    "              \"max_features\": sp_randint(1, 40),\n",
    "              \"min_samples_split\": sp_randint(2, 20),\n",
    "            }\n",
    "\n",
    "# run randomized search\n",
    "n_iter_search = 30\n",
    "clf = RandomForestClassifier( bootstrap=20, criterion=\"entropy\",class_weight=\"balanced\")\n",
    "cv = RandomizedSearchCV(clf,scoring='average_precision', param_distributions=param_dist,  cv=5, iid=False,  n_iter=n_iter_search)\n",
    "\n",
    "cv.fit(X_train_tdidf,Y_train)"
   ]
  },
  {
   "cell_type": "code",
   "execution_count": 134,
   "metadata": {},
   "outputs": [],
   "source": [
    "clf=cv.best_estimator_\n",
    "y_pred=clf.predict(X_test_tdidf)"
   ]
  },
  {
   "cell_type": "code",
   "execution_count": 135,
   "metadata": {},
   "outputs": [
    {
     "name": "stdout",
     "output_type": "stream",
     "text": [
      "              precision    recall  f1-score   support\n",
      "\n",
      "           0       0.96      0.91      0.93      3732\n",
      "           1       0.48      0.67      0.56       478\n",
      "\n",
      "    accuracy                           0.88      4210\n",
      "   macro avg       0.72      0.79      0.75      4210\n",
      "weighted avg       0.90      0.88      0.89      4210\n",
      "\n"
     ]
    }
   ],
   "source": [
    "print(classification_report(Y_test.values, y_pred))"
   ]
  },
  {
   "cell_type": "code",
   "execution_count": 136,
   "metadata": {},
   "outputs": [
    {
     "name": "stdout",
     "output_type": "stream",
     "text": [
      "[[3392  340]\n",
      " [ 158  320]]\n"
     ]
    }
   ],
   "source": [
    "print(confusion_matrix(Y_test,y_pred))"
   ]
  },
  {
   "cell_type": "markdown",
   "metadata": {},
   "source": [
    "##  3.3 Gradient Boosted Decision Trees"
   ]
  },
  {
   "cell_type": "code",
   "execution_count": 148,
   "metadata": {},
   "outputs": [
    {
     "data": {
      "text/plain": [
       "RandomizedSearchCV(cv=5, error_score='raise-deprecating',\n",
       "                   estimator=XGBClassifier(base_score=0.5, booster='gbtree',\n",
       "                                           colsample_bylevel=1,\n",
       "                                           colsample_bytree=1, gamma=0,\n",
       "                                           learning_rate=0.1, max_delta_step=0,\n",
       "                                           max_depth=3, min_child_weight=1,\n",
       "                                           missing=None, n_estimators=100,\n",
       "                                           n_jobs=1, nthread=None,\n",
       "                                           objective='binary:logistic',\n",
       "                                           random_state=0, reg_alpha=0,\n",
       "                                           reg_lambda=1, scale...\n",
       "                                        'max_features': <scipy.stats._distn_infrastructure.rv_frozen object at 0x000000001CE64668>,\n",
       "                                        'min_samples_split': <scipy.stats._distn_infrastructure.rv_frozen object at 0x000000001CE645F8>,\n",
       "                                        'n_estimators': <scipy.stats._distn_infrastructure.rv_frozen object at 0x000000001CED0BA8>},\n",
       "                   pre_dispatch='2*n_jobs', random_state=None, refit=True,\n",
       "                   return_train_score=False, scoring='average_precision',\n",
       "                   verbose=0)"
      ]
     },
     "execution_count": 148,
     "metadata": {},
     "output_type": "execute_result"
    }
   ],
   "source": [
    "import xgboost as xgb\n",
    "from xgboost import XGBClassifier\n",
    "\n",
    "params = {  \n",
    "    \"n_estimators\": sp_randint(3, 40),\n",
    "    \"max_depth\": sp_randint(3, 40),\n",
    "    \"learning_rate\": uniform(0.05, 0.4),\n",
    "    \"gamma\": uniform(0, 10),\n",
    "}\n",
    "# run randomized search\n",
    "n_iter_search = 10\n",
    "clf = XGBClassifier()\n",
    "cv = RandomizedSearchCV(clf,scoring='average_precision', param_distributions=param_dist,  cv=5, iid=False,  n_iter=n_iter_search)\n",
    "\n",
    "cv.fit(X_train_tdidf,Y_train)"
   ]
  },
  {
   "cell_type": "code",
   "execution_count": 149,
   "metadata": {},
   "outputs": [],
   "source": [
    "y_pred=model.predict(X_test_tdidf)"
   ]
  },
  {
   "cell_type": "code",
   "execution_count": 155,
   "metadata": {},
   "outputs": [
    {
     "name": "stdout",
     "output_type": "stream",
     "text": [
      "              precision    recall  f1-score   support\n",
      "\n",
      "           0       0.97      0.98      0.97      3732\n",
      "           1       0.81      0.75      0.78       478\n",
      "\n",
      "    accuracy                           0.95      4210\n",
      "   macro avg       0.89      0.87      0.88      4210\n",
      "weighted avg       0.95      0.95      0.95      4210\n",
      "\n"
     ]
    }
   ],
   "source": [
    "print(classification_report(Y_test.values, y_pred))"
   ]
  },
  {
   "cell_type": "code",
   "execution_count": 156,
   "metadata": {},
   "outputs": [
    {
     "name": "stdout",
     "output_type": "stream",
     "text": [
      "[[3648   84]\n",
      " [ 118  360]]\n"
     ]
    }
   ],
   "source": [
    "print(confusion_matrix(Y_test,y_pred))"
   ]
  },
  {
   "cell_type": "markdown",
   "metadata": {},
   "source": [
    "### 3.4 Conclusion"
   ]
  },
  {
   "cell_type": "markdown",
   "metadata": {},
   "source": [
    "## 4. Word embedding approach"
   ]
  },
  {
   "cell_type": "markdown",
   "metadata": {},
   "source": [
    "### 4.1 Example of word embeddings"
   ]
  },
  {
   "cell_type": "code",
   "execution_count": 243,
   "metadata": {},
   "outputs": [
    {
     "name": "stdout",
     "output_type": "stream",
     "text": [
      "message1:  There's nothing to eat and water, we starving and thirsty.\n",
      "message2:  How can we get water and food in Fontamara 43 cite Tinante?\n",
      "\n",
      "message3:  I would like to receive the messages, thank you\n",
      "\n",
      "\n",
      "message 1-2 similarity:  0.8998820194599932\n",
      "message 1-3 similarity:  0.8150712829697143\n",
      "message 2-3 similarity:  0.83254640420231\n"
     ]
    }
   ],
   "source": [
    "food_message1= df.loc[df.food==1,'message'].iloc[0] \n",
    "food_message2= df.loc[df.food==1,'message'].iloc[5] \n",
    "other_message= df.loc[df.food==0,'message'].iloc[6] \n",
    "print(\"message1: \",food_message1)\n",
    "print(\"message2: \",food_message2)\n",
    "print()\n",
    "print(\"message3: \",other_message)\n",
    "\n",
    "t1=nlp(food_message1)\n",
    "t2=nlp(food_message2)\n",
    "t3=nlp(other_message)\n",
    "\n",
    "print()\n",
    "print()\n",
    "\n",
    "print('message 1-2 similarity: ', t1.similarity(t2))\n",
    "print('message 1-3 similarity: ', t1.similarity(t3))\n",
    "print('message 2-3 similarity: ', t2.similarity(t3))\n",
    "\n",
    "\n"
   ]
  },
  {
   "cell_type": "code",
   "execution_count": 244,
   "metadata": {},
   "outputs": [],
   "source": [
    "def embedding_tokenizer(message):\n",
    "    message=re.sub(\"[#@$'!*+%\\\".()!,]?;\",'',message).replace('','').replace('-','')\n",
    "    message=' '.join(message.split())\n",
    "    doc=nlp(message)\n",
    "    words=[]\n",
    "\n",
    "    remove_ent=[]\n",
    "    for ent in doc.ents:\n",
    "        if ent.label_ in ['GPE','LOC','NORP','FAC','ORG','LANGUAGE']:\n",
    "            remove_ent.append(ent.text)\n",
    "\n",
    "    # remove punctuation etc\n",
    "    for token in doc:\n",
    "        if ( (~token.is_stop)   & (token.pos_!='NUM') & (token.pos_!='PUNCT') & (token.pos_!='SYM') &\n",
    "           ~(token.text in (remove_ent)) & (len(token.text)>1) & (token.has_vector) ):\n",
    "            words.append(token.text)\n",
    "    return(words)"
   ]
  },
  {
   "cell_type": "code",
   "execution_count": 245,
   "metadata": {},
   "outputs": [
    {
     "name": "stdout",
     "output_type": "stream",
     "text": [
      "eat water starving thirsty\n",
      "water food cite\n",
      "like receive messages thank\n",
      "\n",
      "message 1-2 similarity:  0.7056666438629938\n",
      "message 1-3 similarity:  0.35251518688406175\n",
      "message 2-3 similarity:  0.37734246809506683\n"
     ]
    }
   ],
   "source": [
    "t1=nlp(\" \".join(embedding_tokenizer(food_message1)))\n",
    "t2=nlp(\" \".join(embedding_tokenizer(food_message2)))\n",
    "t3=nlp(\" \".join(embedding_tokenizer(other_message)))\n",
    "\n",
    "print(t1)\n",
    "print(t2)\n",
    "print(t3)\n",
    "\n",
    "print( )\n",
    "\n",
    "print('message 1-2 similarity: ', t1.similarity(t2))\n",
    "print('message 1-3 similarity: ', t1.similarity(t3))\n",
    "print('message 2-3 similarity: ', t2.similarity(t3))\n"
   ]
  },
  {
   "cell_type": "code",
   "execution_count": null,
   "metadata": {},
   "outputs": [],
   "source": []
  },
  {
   "cell_type": "code",
   "execution_count": 253,
   "metadata": {},
   "outputs": [],
   "source": [
    "train =pd.concat((X_train,Y_train),axis=1).values"
   ]
  },
  {
   "cell_type": "code",
   "execution_count": 269,
   "metadata": {},
   "outputs": [
    {
     "data": {
      "text/plain": [
       "array(['Weeks passed without any aid coming to this village, while helicopters flew overhead, ferrying supplies elsewhere.',\n",
       "       0], dtype=object)"
      ]
     },
     "execution_count": 269,
     "metadata": {},
     "output_type": "execute_result"
    }
   ],
   "source": [
    "train[1]"
   ]
  },
  {
   "cell_type": "code",
   "execution_count": 277,
   "metadata": {},
   "outputs": [],
   "source": [
    "def load_data(train_data,limit=0, split=0.8):\n",
    "    \"\"\"Load data from the IMDB dataset.\"\"\"\n",
    "    # Partition off part of the train data for evaluation\n",
    "\n",
    "    random.shuffle(train_data)\n",
    "    train_data = train_data[-limit:]\n",
    "    texts, labels = zip(*train_data)\n",
    "    cats = [{\"POSITIVE\": bool(y), \"NEGATIVE\": not bool(y)} for y in labels]\n",
    "    split = int(len(train_data) * split)\n",
    "    return (texts[:split], cats[:split]), (texts[split:], cats[split:])"
   ]
  },
  {
   "cell_type": "code",
   "execution_count": 273,
   "metadata": {},
   "outputs": [],
   "source": [
    "if \"textcat\" not in nlp.pipe_names:\n",
    "    textcat = nlp.create_pipe(\n",
    "        \"textcat\",\n",
    "        config={\n",
    "            \"exclusive_classes\": True,\n",
    "            \"architecture\": \"simple_cnn\",\n",
    "        }\n",
    "    )\n",
    "    nlp.add_pipe(textcat, last=True)\n",
    "# otherwise, get it, so we can add labels to it\n",
    "else:\n",
    "    textcat = nlp.get_pipe(\"textcat\")\n",
    "    "
   ]
  },
  {
   "cell_type": "code",
   "execution_count": 274,
   "metadata": {},
   "outputs": [],
   "source": [
    "# nlp.remove_pipe(\"textcat\")"
   ]
  },
  {
   "cell_type": "code",
   "execution_count": 276,
   "metadata": {},
   "outputs": [
    {
     "data": {
      "text/plain": [
       "1"
      ]
     },
     "execution_count": 276,
     "metadata": {},
     "output_type": "execute_result"
    }
   ],
   "source": [
    "textcat.add_label('POSITIVE')\n",
    "textcat.add_label(\"NEGATIVE\")"
   ]
  },
  {
   "cell_type": "code",
   "execution_count": 278,
   "metadata": {},
   "outputs": [],
   "source": [
    "(train_texts, train_cats), (dev_texts, dev_cats) = load_data(train)"
   ]
  },
  {
   "cell_type": "code",
   "execution_count": 287,
   "metadata": {},
   "outputs": [
    {
     "name": "stdout",
     "output_type": "stream",
     "text": [
      "Using 1000 examples (1000 training, 3368 evaluation)\n"
     ]
    }
   ],
   "source": [
    "n_texts=1000\n",
    "\n",
    "train_texts = train_texts[:n_texts]\n",
    "train_cats = train_cats[:n_texts]\n",
    "\n",
    "print(\n",
    "        \"Using {} examples ({} training, {} evaluation)\".format(\n",
    "            n_texts, len(train_texts), len(dev_texts)\n",
    "        )\n",
    "    )"
   ]
  },
  {
   "cell_type": "code",
   "execution_count": 286,
   "metadata": {},
   "outputs": [
    {
     "data": {
      "text/plain": [
       "('Communication minister Issa Tchiroma Bakary did not elaborate on the nationality of the foreigners, who were among the more than 100 killed during an attempted cross-border raid at the weekend.',\n",
       " {'POSITIVE': False, 'NEGATIVE': True})"
      ]
     },
     "execution_count": 286,
     "metadata": {},
     "output_type": "execute_result"
    }
   ],
   "source": [
    "train_texts[0], train_cats[0]"
   ]
  },
  {
   "cell_type": "code",
   "execution_count": 294,
   "metadata": {},
   "outputs": [],
   "source": [
    "def evaluate(tokenizer, textcat, texts, cats):\n",
    "    \n",
    "    docs = (tokenizer(text) for text in texts)\n",
    "    tp = 0.0  # True positives\n",
    "    fp = 1e-8  # False positives\n",
    "    fn = 1e-8  # False negatives\n",
    "    tn = 0.0  # True negatives\n",
    "    for i, doc in enumerate(textcat.pipe(docs)):\n",
    "        gold = cats[i]\n",
    "        for label, score in doc.cats.items():\n",
    "            if label not in gold:\n",
    "                continue\n",
    "            if label == \"NEGATIVE\":\n",
    "                continue\n",
    "            if score >= 0.5 and gold[label] >= 0.5:\n",
    "                tp += 1.0\n",
    "            elif score >= 0.5 and gold[label] < 0.5:\n",
    "                fp += 1.0\n",
    "            elif score < 0.5 and gold[label] < 0.5:\n",
    "                tn += 1\n",
    "            elif score < 0.5 and gold[label] >= 0.5:\n",
    "                fn += 1\n",
    "    precision = tp / (tp + fp)\n",
    "    recall = tp / (tp + fn)\n",
    "    if (precision + recall) == 0:\n",
    "        f_score = 0.0\n",
    "    else:\n",
    "        f_score = 2 * (precision * recall) / (precision + recall)\n",
    "    return {\"textcat_p\": precision, \"textcat_r\": recall, \"textcat_f\": f_score}\n"
   ]
  },
  {
   "cell_type": "code",
   "execution_count": 290,
   "metadata": {},
   "outputs": [],
   "source": [
    "train_data = list(zip(train_texts, [{\"cats\": cats} for cats in train_cats]))\n",
    "\n",
    "# get names of other pipes to disable them during training\n",
    "other_pipes = [pipe for pipe in nlp.pipe_names if pipe != \"textcat\"]\n",
    "\n"
   ]
  },
  {
   "cell_type": "code",
   "execution_count": 295,
   "metadata": {},
   "outputs": [
    {
     "name": "stdout",
     "output_type": "stream",
     "text": [
      "Training the model...\n",
      "LOSS \t  P  \t  R  \t  F  \n",
      "0.910\t0.730\t0.293\t0.419\n",
      "0.150\t0.626\t0.276\t0.383\n",
      "0.009\t0.618\t0.268\t0.374\n",
      "0.000\t0.661\t0.211\t0.320\n",
      "0.000\t0.679\t0.205\t0.315\n",
      "0.000\t0.680\t0.199\t0.308\n",
      "0.000\t0.680\t0.199\t0.308\n",
      "0.000\t0.683\t0.197\t0.305\n",
      "0.000\t0.686\t0.199\t0.309\n",
      "0.000\t0.661\t0.205\t0.313\n",
      "0.000\t0.655\t0.205\t0.312\n",
      "0.000\t0.661\t0.205\t0.313\n",
      "0.000\t0.661\t0.205\t0.313\n",
      "0.000\t0.661\t0.205\t0.313\n",
      "0.000\t0.661\t0.205\t0.313\n",
      "0.000\t0.667\t0.205\t0.314\n",
      "0.000\t0.667\t0.205\t0.314\n",
      "0.000\t0.667\t0.205\t0.314\n",
      "0.000\t0.667\t0.205\t0.314\n",
      "0.000\t0.673\t0.205\t0.314\n"
     ]
    }
   ],
   "source": [
    "init_tok2vec=None\n",
    "\n",
    "n_iter=20\n",
    "\n",
    "with nlp.disable_pipes(*other_pipes):  # only train textcat\n",
    "    optimizer = nlp.begin_training()\n",
    "\n",
    "    print(\"Training the model...\")\n",
    "    print(\"{:^5}\\t{:^5}\\t{:^5}\\t{:^5}\".format(\"LOSS\", \"P\", \"R\", \"F\"))\n",
    "    batch_sizes = compounding(4.0, 32.0, 1.001)\n",
    "    for i in range(n_iter):\n",
    "        losses = {}\n",
    "        # batch up the examples using spaCy's minibatch\n",
    "        random.shuffle(train_data)\n",
    "        batches = minibatch(train_data, size=batch_sizes)\n",
    "        for batch in batches:\n",
    "            texts, annotations = zip(*batch)\n",
    "            nlp.update(texts, annotations, sgd=optimizer, drop=0.2, losses=losses)\n",
    "        with textcat.model.use_params(optimizer.averages):\n",
    "            # evaluate on the dev data split off in load_data()\n",
    "            scores = evaluate(nlp.tokenizer, textcat, dev_texts, dev_cats)\n",
    "        print(\n",
    "            \"{0:.3f}\\t{1:.3f}\\t{2:.3f}\\t{3:.3f}\".format(  # print a simple table\n",
    "                losses[\"textcat\"],\n",
    "                scores[\"textcat_p\"],\n",
    "                scores[\"textcat_r\"],\n",
    "                scores[\"textcat_f\"],\n",
    "            )\n",
    "        )\n"
   ]
  },
  {
   "cell_type": "code",
   "execution_count": 296,
   "metadata": {},
   "outputs": [
    {
     "name": "stdout",
     "output_type": "stream",
     "text": [
      "We are starving and we need urgently food: water, bread, milk {'POSITIVE': 0.8373962044715881, 'NEGATIVE': 0.16260382533073425}\n"
     ]
    }
   ],
   "source": [
    "# test the trained model\n",
    "test_text = \"We are starving and we need urgently food: water, bread, milk\"\n",
    "doc = nlp(test_text)\n",
    "print(test_text, doc.cats)\n",
    "\n",
    "# if output_dir is not None:\n",
    "#     with nlp.use_params(optimizer.averages):\n",
    "#         nlp.to_disk(output_dir)\n",
    "#     print(\"Saved model to\", output_dir)\n",
    "\n",
    "#     # test the saved model\n",
    "#     print(\"Loading from\", output_dir)\n",
    "#     nlp2 = spacy.load(output_dir)\n",
    "#     doc2 = nlp2(test_text)\n",
    "#     print(test_text, doc2.cats)\n"
   ]
  },
  {
   "cell_type": "code",
   "execution_count": null,
   "metadata": {},
   "outputs": [],
   "source": []
  }
 ],
 "metadata": {
  "kernelspec": {
   "display_name": "Python [conda env:ds]",
   "language": "python",
   "name": "conda-env-ds-py"
  },
  "language_info": {
   "codemirror_mode": {
    "name": "ipython",
    "version": 3
   },
   "file_extension": ".py",
   "mimetype": "text/x-python",
   "name": "python",
   "nbconvert_exporter": "python",
   "pygments_lexer": "ipython3",
   "version": "3.6.6"
  }
 },
 "nbformat": 4,
 "nbformat_minor": 2
}
