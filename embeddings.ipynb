{
 "cells": [
  {
   "cell_type": "code",
   "execution_count": null,
   "metadata": {},
   "outputs": [],
   "source": [
    "import numpy as np\n",
    "import pandas as pd\n",
    "import pylab as plt\n",
    "import random as rd\n",
    "\n",
    "import spacy\n",
    "from spacy.tokenizer import Tokenizer\n",
    "from spacy.lang.en import English\n",
    "from spacy.util import minibatch, compounding\n",
    "from nltk.stem.porter import *  \n",
    "\n",
    "import re\n",
    "import urllib.request\n",
    "pd.set_option('display.max_colwidth', -1)\n",
    "pd.options.display.max_columns = None\n",
    "from IPython.core.display import display, HTML\n",
    "display(HTML(\"<style>.container { width:100% !important; }</style>\"))\n",
    "\n",
    "nlp = spacy.load(\"en_core_web_md\")\n",
    "\n",
    "from spacy import displacy\n",
    "import df_helper as dfh\n",
    "\n",
    "from sklearn.utils.random import sample_without_replacement\n",
    "import importlib"
   ]
  },
  {
   "cell_type": "code",
   "execution_count": null,
   "metadata": {},
   "outputs": [],
   "source": [
    "from sklearn.base import TransformerMixin\n",
    "\n",
    "\n",
    "from sklearn.model_selection import train_test_split\n",
    "from sklearn.metrics import confusion_matrix\n",
    "from sklearn.metrics import fbeta_score, make_scorer\n",
    "from sklearn.tree import DecisionTreeClassifier\n",
    "from sklearn.model_selection import GridSearchCV\n",
    "from sklearn.feature_extraction.text import TfidfTransformer, CountVectorizer\n",
    "from sklearn.multioutput import MultiOutputClassifier\n",
    "from sklearn.linear_model import LogisticRegression\n",
    "\n",
    "from sklearn.model_selection import train_test_split\n",
    "from sklearn.multioutput import MultiOutputClassifier\n",
    "from sklearn.ensemble import RandomForestClassifier, GradientBoostingClassifier,AdaBoostClassifier\n",
    "from sklearn.multiclass import OneVsRestClassifier\n",
    "\n",
    "from sklearn.pipeline import Pipeline, FeatureUnion\n",
    "from sklearn.model_selection import GridSearchCV, RandomizedSearchCV, validation_curve\n",
    "from sklearn.metrics import make_scorer, accuracy_score, f1_score, fbeta_score, classification_report, confusion_matrix\n",
    "\n",
    "import sklearn.metrics as met\n",
    "from sklearn.metrics import precision_recall_curve, roc_curve, auc, matthews_corrcoef\n",
    "from sklearn.metrics import confusion_matrix, fbeta_score, make_scorer, average_precision_score, auc, \\\n",
    "    accuracy_score, balanced_accuracy_score, precision_score, recall_score, f1_score, classification_report, \\\n",
    "    brier_score_loss, roc_auc_score\n",
    "\n",
    "from scipy.stats import randint as sp_randint , uniform\n",
    "import eli5"
   ]
  },
  {
   "cell_type": "markdown",
   "metadata": {},
   "source": [
    "## 3. Word embedding approach\n",
    "\n",
    "[Word embedding](https://en.wikipedia.org/wiki/Word_embedding) map words to vectors of fixed dimensionality (typically in the range of hundreds). The basic idea is to map similar words into similar vectors, so that relationship between words are mapped into geometrical relationships.\n",
    "\n",
    "Advantages of word embedding models are:\n",
    "* ability to deal with synonyms and misspelling\n",
    "* some insight into the meaning of concepts\n"
   ]
  },
  {
   "cell_type": "code",
   "execution_count": 52,
   "metadata": {},
   "outputs": [],
   "source": [
    "def embedding_tokenizer(message):\n",
    "    message=re.sub(\"[#@$'!*+%\\\".()!,]?;\",'',message).replace('','').replace('-','')\n",
    "    message=' '.join(message.split())\n",
    "    doc=nlp(message)\n",
    "    words=[]\n",
    "\n",
    "    remove_ent=[]\n",
    "    for ent in doc.ents:\n",
    "        if ent.label_ in ['GPE','LOC','NORP','FAC','ORG','LANGUAGE']:\n",
    "            remove_ent.append(ent.text)\n",
    "            \n",
    "    # remove punctuation etc\n",
    "    for token in doc:\n",
    "        if ( (~token.is_stop)   & (token.pos_!='NUM') & (token.pos_!='PUNCT') & (token.pos_!='SYM') &\n",
    "           ~(token.text in (remove_ent)) & (len(token.text)>1) & (token.has_vector) ):\n",
    "            words.append(token.text)\n",
    "    return(words)"
   ]
  },
  {
   "cell_type": "code",
   "execution_count": 53,
   "metadata": {},
   "outputs": [
    {
     "name": "stdout",
     "output_type": "stream",
     "text": [
      "1:  There's nothing to eat and water, we starving and thirsty.\n",
      "2:  How can we get water and food in Fontamara 43 cite Tinante?\n",
      "3:  I would like to receive the messages, thank you\n",
      "\n",
      "message 1-2 similarity:  0.7056666438629938\n",
      "\n",
      "message 1-3 similarity:  0.35251518688406175\n",
      "message 2-3 similarity:  0.37734246809506683\n"
     ]
    }
   ],
   "source": [
    "food_message1= df.loc[df.food==1,'message'].iloc[0] \n",
    "food_message2= df.loc[df.food==1,'message'].iloc[5] \n",
    "other_message= df.loc[df.food==0,'message'].iloc[6] \n",
    "\n",
    "t1=nlp(\" \".join(embedding_tokenizer(food_message1)))\n",
    "t2=nlp(\" \".join(embedding_tokenizer(food_message2)))\n",
    "t3=nlp(\" \".join(embedding_tokenizer(other_message)))\n",
    "\n",
    "\n",
    "print('1: ',food_message1)\n",
    "print('2: ',food_message2)\n",
    "print('3: ',other_message)\n",
    "\n",
    "print( )\n",
    "\n",
    "print('message 1-2 similarity: ', t1.similarity(t2))\n",
    "print()\n",
    "print('message 1-3 similarity: ', t1.similarity(t3))\n",
    "print('message 2-3 similarity: ', t2.similarity(t3))\n"
   ]
  },
  {
   "cell_type": "code",
   "execution_count": null,
   "metadata": {},
   "outputs": [],
   "source": []
  },
  {
   "cell_type": "code",
   "execution_count": 71,
   "metadata": {},
   "outputs": [],
   "source": [
    "train =pd.concat((X_train,Y_train),axis=1).values\n",
    "test =pd.concat((X_test,Y_test),axis=1).values\n",
    "valid =pd.concat((X_valid,Y_valid),axis=1).values\n"
   ]
  },
  {
   "cell_type": "code",
   "execution_count": 55,
   "metadata": {},
   "outputs": [
    {
     "data": {
      "text/plain": [
       "array(['Is the Hurricane over or is it not over', 0], dtype=object)"
      ]
     },
     "execution_count": 55,
     "metadata": {},
     "output_type": "execute_result"
    }
   ],
   "source": [
    "train[1]"
   ]
  },
  {
   "cell_type": "code",
   "execution_count": 68,
   "metadata": {},
   "outputs": [],
   "source": [
    "\n",
    "\n",
    "def load_data(train_data,limit=0):\n",
    "    \"\"\"Load data\"\"\"\n",
    "    # Partition off part of the train data for evaluation\n",
    "\n",
    "    rd.shuffle(train_data)\n",
    "    train_data = train_data[-limit:]\n",
    "    texts, labels = zip(*train_data)\n",
    "    cats = [{\"POSITIVE\": bool(y), \"NEGATIVE\": not bool(y)} for y in labels]\n",
    "    \n",
    "    return (texts, cats)"
   ]
  },
  {
   "cell_type": "code",
   "execution_count": 57,
   "metadata": {},
   "outputs": [],
   "source": [
    "if \"textcat\" not in nlp.pipe_names:\n",
    "    textcat = nlp.create_pipe(\n",
    "        \"textcat\",\n",
    "        config={\n",
    "            \"exclusive_classes\": True,\n",
    "            \"architecture\": \"simple_cnn\",\n",
    "        }\n",
    "    )\n",
    "    nlp.add_pipe(textcat, last=True)\n",
    "# otherwise, get it, so we can add labels to it\n",
    "else:\n",
    "    textcat = nlp.get_pipe(\"textcat\")\n",
    "    "
   ]
  },
  {
   "cell_type": "code",
   "execution_count": 58,
   "metadata": {},
   "outputs": [],
   "source": [
    "# nlp.remove_pipe(\"textcat\")"
   ]
  },
  {
   "cell_type": "code",
   "execution_count": 69,
   "metadata": {},
   "outputs": [
    {
     "data": {
      "text/plain": [
       "0"
      ]
     },
     "execution_count": 69,
     "metadata": {},
     "output_type": "execute_result"
    }
   ],
   "source": [
    "textcat.add_label('POSITIVE')\n",
    "textcat.add_label(\"NEGATIVE\")"
   ]
  },
  {
   "cell_type": "code",
   "execution_count": 72,
   "metadata": {},
   "outputs": [],
   "source": [
    "train_texts, train_cats = load_data(train)\n",
    "dev_texts, dev_cats = load_data(test)\n",
    "val_texts, val_cats = load_data(valid)\n"
   ]
  },
  {
   "cell_type": "code",
   "execution_count": 73,
   "metadata": {},
   "outputs": [
    {
     "name": "stdout",
     "output_type": "stream",
     "text": [
      "Using 1000 examples (1000 training, 2629 evaluation)\n"
     ]
    }
   ],
   "source": [
    "n_texts=1000\n",
    "\n",
    "train_texts = train_texts[:n_texts]\n",
    "train_cats = train_cats[:n_texts]\n",
    "\n",
    "print(\n",
    "        \"Using {} examples ({} training, {} evaluation)\".format(\n",
    "            n_texts, len(train_texts), len(dev_texts)\n",
    "        )\n",
    "    )"
   ]
  },
  {
   "cell_type": "code",
   "execution_count": 76,
   "metadata": {},
   "outputs": [
    {
     "data": {
      "text/plain": [
       "('Weather update - a cold front from Cuba that could pass over Haiti',\n",
       " {'POSITIVE': False, 'NEGATIVE': True})"
      ]
     },
     "execution_count": 76,
     "metadata": {},
     "output_type": "execute_result"
    }
   ],
   "source": [
    "train_texts[0], train_cats[0]"
   ]
  },
  {
   "cell_type": "code",
   "execution_count": 77,
   "metadata": {},
   "outputs": [],
   "source": [
    "def evaluate(tokenizer, textcat, texts, cats):\n",
    "    \n",
    "    docs = (tokenizer(text) for text in texts)\n",
    "    tp = 0.0  # True positives\n",
    "    fp = 1e-8  # False positives\n",
    "    fn = 1e-8  # False negatives\n",
    "    tn = 0.0  # True negatives\n",
    "    for i, doc in enumerate(textcat.pipe(docs)):\n",
    "        gold = cats[i]\n",
    "        for label, score in doc.cats.items():\n",
    "            if label not in gold:\n",
    "                continue\n",
    "            if label == \"NEGATIVE\":\n",
    "                continue\n",
    "            if score >= 0.5 and gold[label] >= 0.5:\n",
    "                tp += 1.0\n",
    "            elif score >= 0.5 and gold[label] < 0.5:\n",
    "                fp += 1.0\n",
    "            elif score < 0.5 and gold[label] < 0.5:\n",
    "                tn += 1\n",
    "            elif score < 0.5 and gold[label] >= 0.5:\n",
    "                fn += 1\n",
    "    precision = tp / (tp + fp)\n",
    "    recall = tp / (tp + fn)\n",
    "    if (precision + recall) == 0:\n",
    "        f_score = 0.0\n",
    "    else:\n",
    "        f_score = 2 * (precision * recall) / (precision + recall)\n",
    "    return {\"textcat_p\": precision, \"textcat_r\": recall, \"textcat_f\": f_score}\n"
   ]
  },
  {
   "cell_type": "code",
   "execution_count": 78,
   "metadata": {},
   "outputs": [],
   "source": [
    "train_data = list(zip(train_texts, [{\"cats\": cats} for cats in train_cats]))\n",
    "\n",
    "# get names of other pipes to disable them during training\n",
    "other_pipes = [pipe for pipe in nlp.pipe_names if pipe != \"textcat\"]\n",
    "\n"
   ]
  },
  {
   "cell_type": "code",
   "execution_count": 80,
   "metadata": {},
   "outputs": [
    {
     "name": "stdout",
     "output_type": "stream",
     "text": [
      "Training the model...\n",
      "LOSS \t  P  \t  R  \t  F  \n",
      "3.511\t0.553\t0.648\t0.597\n",
      "0.713\t0.667\t0.611\t0.638\n",
      "0.167\t0.672\t0.683\t0.677\n",
      "0.041\t0.647\t0.611\t0.629\n",
      "0.004\t0.600\t0.576\t0.588\n",
      "0.001\t0.589\t0.607\t0.597\n",
      "0.000\t0.606\t0.604\t0.605\n",
      "0.000\t0.621\t0.613\t0.617\n",
      "0.000\t0.596\t0.602\t0.599\n",
      "0.000\t0.598\t0.602\t0.600\n",
      "0.000\t0.594\t0.591\t0.593\n",
      "0.000\t0.598\t0.602\t0.600\n",
      "0.000\t0.594\t0.591\t0.593\n",
      "0.000\t0.596\t0.591\t0.594\n",
      "0.000\t0.596\t0.591\t0.594\n",
      "0.000\t0.594\t0.591\t0.593\n",
      "0.000\t0.590\t0.591\t0.591\n",
      "0.000\t0.590\t0.591\t0.591\n",
      "0.000\t0.590\t0.591\t0.591\n",
      "0.000\t0.589\t0.591\t0.590\n"
     ]
    }
   ],
   "source": [
    "init_tok2vec=None\n",
    "\n",
    "\n",
    "n_iter=20\n",
    "\n",
    "with nlp.disable_pipes(*other_pipes):  # only train textcat\n",
    "    optimizer = nlp.begin_training()\n",
    "\n",
    "    print(\"Training the model...\")\n",
    "    print(\"{:^5}\\t{:^5}\\t{:^5}\\t{:^5}\".format(\"LOSS\", \"P\", \"R\", \"F\"))\n",
    "    batch_sizes = compounding(4.0, 32.0, 1.001)\n",
    "    for i in range(n_iter):\n",
    "        losses = {}\n",
    "        # batch up the examples using spaCy's minibatch\n",
    "        rd.shuffle(train_data)\n",
    "        batches = minibatch(train_data, size=batch_sizes)\n",
    "        for batch in batches:\n",
    "            texts, annotations = zip(*batch)\n",
    "            nlp.update(texts, annotations, sgd=optimizer, drop=0.2, losses=losses)\n",
    "        with textcat.model.use_params(optimizer.averages):\n",
    "            # evaluate on the dev data split off in load_data()\n",
    "            scores = evaluate(nlp.tokenizer, textcat, dev_texts, dev_cats)\n",
    "        print(\n",
    "            \"{0:.3f}\\t{1:.3f}\\t{2:.3f}\\t{3:.3f}\".format(  # print a simple table\n",
    "                losses[\"textcat\"],\n",
    "                scores[\"textcat_p\"],\n",
    "                scores[\"textcat_r\"],\n",
    "                scores[\"textcat_f\"],\n",
    "            )\n",
    "        )\n"
   ]
  },
  {
   "cell_type": "code",
   "execution_count": 224,
   "metadata": {},
   "outputs": [
    {
     "name": "stdout",
     "output_type": "stream",
     "text": [
      "We are starving and we need urgently food: water, bread, milk {'POSITIVE': 0.999998927116394, 'NEGATIVE': 1.0174613862545812e-06}\n"
     ]
    }
   ],
   "source": [
    "# test the trained model\n",
    "test_text = \"We are starving and we need urgently food: water, bread, milk\"\n",
    "doc = nlp(test_text)\n",
    "print(test_text, doc.cats)\n"
   ]
  },
  {
   "cell_type": "code",
   "execution_count": 225,
   "metadata": {},
   "outputs": [],
   "source": [
    "test_set =X_valid.to_list()\n",
    "y_prob=[]\n",
    "\n",
    "for n in range(0,len(test_set)):\n",
    "    test = nlp(test_set[n])\n",
    "    y_prob.append( test.cats['POSITIVE']  )\n",
    "res['SpaCy_md']=y_prob"
   ]
  },
  {
   "cell_type": "code",
   "execution_count": 227,
   "metadata": {},
   "outputs": [
    {
     "name": "stdout",
     "output_type": "stream",
     "text": [
      "              precision    recall  f1-score   support\n",
      "\n",
      "           0       0.93      0.91      0.92      2298\n",
      "           1       0.39      0.46      0.42       275\n",
      "\n",
      "    accuracy                           0.87      2573\n",
      "   macro avg       0.66      0.69      0.67      2573\n",
      "weighted avg       0.88      0.87      0.87      2573\n",
      "\n"
     ]
    }
   ],
   "source": [
    "y_prob=np.array(y_prob)\n",
    "y_pred=y_prob>.5\n",
    "\n",
    "print(classification_report(Y_valid.values, y_pred))"
   ]
  },
  {
   "cell_type": "code",
   "execution_count": 229,
   "metadata": {},
   "outputs": [
    {
     "data": {
      "image/png": "[encoded data removed]",
      "text/plain": [
       "<matplotlib.figure.Figure at 0x5e64b438>"
      ]
     },
     "metadata": {
      "needs_background": "light"
     },
     "output_type": "display_data"
    }
   ],
   "source": [
    "plot_roc_mat(Y_valid,res)"
   ]
  },
  {
   "cell_type": "markdown",
   "metadata": {},
   "source": [
    "### Load model"
   ]
  },
  {
   "cell_type": "code",
   "execution_count": 319,
   "metadata": {},
   "outputs": [
    {
     "name": "stdout",
     "output_type": "stream",
     "text": [
      "Loading from test\n",
      "We are starving and we need urgently food: water, bread, milk {'POSITIVE': 0.8373962044715881, 'NEGATIVE': 0.16260382533073425}\n"
     ]
    }
   ],
   "source": [
    "output_dir='test'\n",
    "print(\"Loading from\", output_dir)\n",
    "nlp2 = spacy.load(output_dir)\n"
   ]
  },
  {
   "cell_type": "code",
   "execution_count": 329,
   "metadata": {},
   "outputs": [
    {
     "name": "stdout",
     "output_type": "stream",
     "text": [
      "I am going to the concert of U2 in Zurich tomorrow {'POSITIVE': 0.00011521164560690522, 'NEGATIVE': 0.9998847246170044}\n"
     ]
    }
   ],
   "source": [
    "test_text = \"I am going to the concert of U2 in Zurich tomorrow\"\n",
    "doc = nlp2(test_text)\n",
    "print(test_text, doc.cats)"
   ]
  },
  {
   "cell_type": "code",
   "execution_count": 326,
   "metadata": {},
   "outputs": [],
   "source": [
    "test_set =X_test.to_list()\n",
    "y_prob=[]\n",
    "\n",
    "for n in range(0,len(test_set)):\n",
    "    test = nlp2(test_set[n])\n",
    "    y_prob.append( test.cats['POSITIVE']  )\n",
    "    \n",
    "\n"
   ]
  },
  {
   "cell_type": "code",
   "execution_count": 330,
   "metadata": {},
   "outputs": [
    {
     "name": "stdout",
     "output_type": "stream",
     "text": [
      "              precision    recall  f1-score   support\n",
      "\n",
      "           0       0.95      0.96      0.95      3732\n",
      "           1       0.64      0.58      0.61       478\n",
      "\n",
      "    accuracy                           0.91      4210\n",
      "   macro avg       0.79      0.77      0.78      4210\n",
      "weighted avg       0.91      0.91      0.91      4210\n",
      "\n"
     ]
    }
   ],
   "source": [
    "y_prob=np.array(y_prob)\n",
    "y_pred=y_prob>.5\n",
    "\n",
    "print(classification_report(Y_test.values, y_pred))"
   ]
  },
  {
   "cell_type": "code",
   "execution_count": 331,
   "metadata": {},
   "outputs": [
    {
     "name": "stdout",
     "output_type": "stream",
     "text": [
      "[[3574  158]\n",
      " [ 201  277]]\n"
     ]
    }
   ],
   "source": [
    "print(confusion_matrix(Y_test,y_pred))"
   ]
  },
  {
   "cell_type": "code",
   "execution_count": null,
   "metadata": {},
   "outputs": [],
   "source": []
  },
  {
   "cell_type": "code",
   "execution_count": null,
   "metadata": {},
   "outputs": [],
   "source": []
  },
  {
   "cell_type": "code",
   "execution_count": null,
   "metadata": {},
   "outputs": [],
   "source": []
  },
  {
   "cell_type": "code",
   "execution_count": null,
   "metadata": {},
   "outputs": [],
   "source": []
  },
  {
   "cell_type": "code",
   "execution_count": null,
   "metadata": {},
   "outputs": [],
   "source": []
  },
  {
   "cell_type": "code",
   "execution_count": null,
   "metadata": {},
   "outputs": [],
   "source": []
  },
  {
   "cell_type": "code",
   "execution_count": null,
   "metadata": {},
   "outputs": [],
   "source": []
  }
 ],
 "metadata": {
  "kernelspec": {
   "display_name": "Python [conda env:ds]",
   "language": "python",
   "name": "conda-env-ds-py"
  },
  "language_info": {
   "codemirror_mode": {
    "name": "ipython",
    "version": 3
   },
   "file_extension": ".py",
   "mimetype": "text/x-python",
   "name": "python",
   "nbconvert_exporter": "python",
   "pygments_lexer": "ipython3",
   "version": "3.6.6"
  }
 },
 "nbformat": 4,
 "nbformat_minor": 2
}
